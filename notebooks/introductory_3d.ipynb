{
 "cells": [
  {
   "cell_type": "code",
   "execution_count": 1,
   "metadata": {},
   "outputs": [
    {
     "data": {
      "application/vnd.jupyter.widget-view+json": {
       "model_id": "8c841dbc7ce345cc9b0bd7a4b2bbc594",
       "version_major": 2,
       "version_minor": 0
      },
      "text/plain": [
       "A Jupyter Widget"
      ]
     },
     "metadata": {},
     "output_type": "display_data"
    }
   ],
   "source": [
    "import nibabel as nb\n",
    "V = nb.load('/data/ds000114/derivatives/fmriprep/sub-01/anat/sub-01_t1w_preproc.nii.gz').get_data()\n",
    "import ipyvolume\n",
    "ipyvolume.quickvolshow(V, level=[0.25, 0.5, 0.75], opacity=0.03, level_width=0.1, width=600, height=600)"
   ]
  },
  {
   "cell_type": "code",
   "execution_count": 2,
   "metadata": {},
   "outputs": [],
   "source": [
    "import ipyvolume.pylab as p3\n",
    "import numpy as np"
   ]
  },
  {
   "cell_type": "code",
   "execution_count": 3,
   "metadata": {},
   "outputs": [],
   "source": [
    "s = 1/2**0.5\n",
    "# 4 vertices for the tetrahedron\n",
    "x = np.array([1.,  -1, 0,  0])\n",
    "y = np.array([0,   0, 1., -1])\n",
    "z = np.array([-s, -s, s,  s])\n",
    "# and 4 surfaces (triangles), where the number refer to the vertex index\n",
    "triangles = [(0, 1, 2), (0, 1, 3), (0, 2, 3), (1,3,2)]"
   ]
  },
  {
   "cell_type": "code",
   "execution_count": 4,
   "metadata": {},
   "outputs": [
    {
     "data": {
      "application/vnd.jupyter.widget-view+json": {
       "model_id": "293d78df737c4fdc98dc5cf48756b7e5",
       "version_major": 2,
       "version_minor": 0
      },
      "text/plain": [
       "A Jupyter Widget"
      ]
     },
     "metadata": {},
     "output_type": "display_data"
    }
   ],
   "source": [
    "fig = p3.figure()\n",
    "# we draw the tetrahedron\n",
    "p3.plot_trisurf(x, y, z, triangles=triangles, color='orange')\n",
    "# and also mark the vertices\n",
    "p3.scatter(x, y, z, marker='sphere', color='blue')\n",
    "p3.xyzlim(-2, 2)\n",
    "p3.show()"
   ]
  },
  {
   "cell_type": "code",
   "execution_count": 5,
   "metadata": {},
   "outputs": [],
   "source": [
    "data_lh = nb.freesurfer.read_geometry('/data/ds000114/derivatives/freesurfer/sub-01/surf/lh.pial')\n",
    "data_rh = nb.freesurfer.read_geometry('/data/ds000114/derivatives/freesurfer/sub-01/surf/rh.pial')"
   ]
  },
  {
   "cell_type": "code",
   "execution_count": 6,
   "metadata": {},
   "outputs": [
    {
     "data": {
      "application/vnd.jupyter.widget-view+json": {
       "model_id": "508ed01ec22c4c429d1451150cef243c",
       "version_major": 2,
       "version_minor": 0
      },
      "text/plain": [
       "A Jupyter Widget"
      ]
     },
     "metadata": {},
     "output_type": "display_data"
    }
   ],
   "source": [
    "fig = p3.figure(width=600, height=600)\n",
    "# we draw the tetrahedron\n",
    "x, y, z = data_lh[0][:, 0], data_lh[0][:, 1], data_lh[0][:, 2]\n",
    "p3.plot_trisurf(x, y, z, triangles=data_lh[1], color='gray')\n",
    "x, y, z = data_rh[0][:, 0], data_rh[0][:, 1], data_rh[0][:, 2]\n",
    "p3.plot_trisurf(x, y, z, triangles=data_rh[1], color='gray')\n",
    "fig.camera_fov = 1\n",
    "fig.xlim = (-100, 100)\n",
    "fig.ylim = (-100, 100)\n",
    "fig.zlim = (-100, 100)\n",
    "fig.style = {'axes': {'color': 'black',\n",
    "  'label': {'color': 'black'},\n",
    "  'ticklabel': {'color': 'black'},\n",
    "  'visible': False},\n",
    " 'background-color': 'white',\n",
    " 'box': {'visible': False}}\n",
    "p3.show()"
   ]
  },
  {
   "cell_type": "code",
   "execution_count": 8,
   "metadata": {},
   "outputs": [],
   "source": [
    "data_lh = [val.data for val in nb.load('/data/ds000114/derivatives/fmriprep/sub-01/anat/sub-01_t1w_smoothwm.l.surf.gii').darrays]\n",
    "data_rh = [val.data for val in nb.load('/data/ds000114/derivatives/fmriprep/sub-01/anat/sub-01_t1w_smoothwm.r.surf.gii').darrays]\n",
    "annot_rh = nb.freesurfer.read_annot('/data/ds000114/derivatives/freesurfer/sub-01/label/rh.aparc.dktatlas.annot')\n",
    "colors_rh = annot_rh[1][annot_rh[0], 0:3]/255.\n",
    "annot_lh = nb.freesurfer.read_annot('/data/ds000114/derivatives/freesurfer/sub-01/label/lh.aparc.dktatlas.annot')\n",
    "colors_lh = annot_lh[1][annot_lh[0], 0:3]/255."
   ]
  },
  {
   "cell_type": "code",
   "execution_count": 9,
   "metadata": {},
   "outputs": [
    {
     "data": {
      "application/vnd.jupyter.widget-view+json": {
       "model_id": "e4590dbf06c44151a47d0557dcde4ee6",
       "version_major": 2,
       "version_minor": 0
      },
      "text/plain": [
       "A Jupyter Widget"
      ]
     },
     "metadata": {},
     "output_type": "display_data"
    }
   ],
   "source": [
    "fig = p3.figure()\n",
    "# we draw the tetrahedron\n",
    "x, y, z = data_lh[0][:, 0], data_lh[0][:, 1], data_lh[0][:, 2]\n",
    "p3.plot_trisurf(x, y, z, triangles=data_lh[1], color=colors_lh)\n",
    "x, y, z = data_rh[0][:, 0], data_rh[0][:, 1], data_rh[0][:, 2]\n",
    "p3.plot_trisurf(x, y, z, triangles=data_rh[1], color=colors_rh)\n",
    "fig.camera_fov = 1\n",
    "fig.xlim = (-100, 100)\n",
    "fig.ylim = (-100, 100)\n",
    "fig.zlim = (-100, 100)\n",
    "p3.show()"
   ]
  },
  {
   "cell_type": "code",
   "execution_count": null,
   "metadata": {},
   "outputs": [],
   "source": []
  }
 ],
 "metadata": {
  "kernelspec": {
   "display_name": "Python 3",
   "language": "python",
   "name": "python3"
  },
  "language_info": {
   "codemirror_mode": {
    "name": "ipython",
    "version": 3
   },
   "file_extension": ".py",
   "mimetype": "text/x-python",
   "name": "python",
   "nbconvert_exporter": "python",
   "pygments_lexer": "ipython3",
   "version": "3.6.2"
  }
 },
 "nbformat": 4,
 "nbformat_minor": 2
}
